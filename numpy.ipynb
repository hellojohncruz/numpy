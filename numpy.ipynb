{
 "cells": [
  {
   "cell_type": "markdown",
   "id": "ab2930d1-0fa5-4abc-ae33-94eba44563c4",
   "metadata": {
    "tags": []
   },
   "source": [
    "# Fundamentals of Numpy Arrays"
   ]
  },
  {
   "cell_type": "code",
   "execution_count": 2,
   "id": "78cba300-0988-42dd-9e31-3964b6b785db",
   "metadata": {},
   "outputs": [],
   "source": [
    "import numpy as np"
   ]
  },
  {
   "cell_type": "markdown",
   "id": "d7305bf9-7547-46cf-9d4c-8d43426ee3f9",
   "metadata": {
    "tags": []
   },
   "source": [
    "## Numpy N-dimesional Array\n",
    "- Able to take a Python list and transform into an array"
   ]
  },
  {
   "cell_type": "code",
   "execution_count": null,
   "id": "75c2ea84-554c-4bd5-a60f-ae350da6cfc2",
   "metadata": {},
   "outputs": [],
   "source": [
    "# create list of floating point values\n",
    "float_list = [1.0, 2.0, 3.0]\n",
    "\n",
    "# transform list into a ndarray\n",
    "list_to_array = np.array(float_list)\n",
    "\n",
    "# print array\n",
    "print(list_to_array)\n",
    "\n",
    "# print array shape\n",
    "print(list_to_array.shape)\n",
    "\n",
    "# print array data type\n",
    "print(list_to_array.dtype)"
   ]
  },
  {
   "cell_type": "markdown",
   "id": "6c3d0e9c-a627-4e4d-a75d-f73c26291b05",
   "metadata": {},
   "source": [
    "<hr>"
   ]
  },
  {
   "cell_type": "markdown",
   "id": "c9f6f45b-dc72-42c2-a675-c65ebeb33583",
   "metadata": {
    "tags": []
   },
   "source": [
    "## Functions to Create Arrays"
   ]
  },
  {
   "cell_type": "markdown",
   "id": "9b89132e-5057-4496-b941-81a53e96d62b",
   "metadata": {},
   "source": [
    "### Empty Array"
   ]
  },
  {
   "cell_type": "code",
   "execution_count": 11,
   "id": "c725f063-f6b2-4973-b6ae-2ce0bc447090",
   "metadata": {},
   "outputs": [
    {
     "name": "stdout",
     "output_type": "stream",
     "text": [
      "[4.01407985e-31 1.08380156e-30 6.22182376e-31]\n"
     ]
    }
   ],
   "source": [
    "# create an empty (3x3) 2-D array\n",
    "empty_array = np.empty((3,3))\n",
    "\n",
    "# print empty array\n",
    "print(empty_array)"
   ]
  },
  {
   "cell_type": "markdown",
   "id": "17aab309-3c66-46ba-bfed-8df2918dcd6e",
   "metadata": {},
   "source": [
    "An important note is that this array is not truly empty, but contains random contents that have to be assigned before using it. "
   ]
  },
  {
   "cell_type": "code",
   "execution_count": 12,
   "id": "c3c788ca-f31b-4590-9b6a-b2d69a0edada",
   "metadata": {},
   "outputs": [
    {
     "name": "stdout",
     "output_type": "stream",
     "text": [
      "4.01407984641058e-31\n",
      "1.083801558530856e-30\n",
      "6.221823761936385e-31\n"
     ]
    }
   ],
   "source": [
    "for num in empty_array:\n",
    "    print(num)"
   ]
  },
  {
   "cell_type": "markdown",
   "id": "4d92fc3d-dd2d-48e6-a588-e55f8814696d",
   "metadata": {},
   "source": [
    "### Zeros Array"
   ]
  },
  {
   "cell_type": "code",
   "execution_count": 13,
   "id": "adea791a-a826-4aa1-b495-7775ed69e999",
   "metadata": {},
   "outputs": [
    {
     "name": "stdout",
     "output_type": "stream",
     "text": [
      "[[0. 0. 0. 0. 0.]\n",
      " [0. 0. 0. 0. 0.]\n",
      " [0. 0. 0. 0. 0.]]\n"
     ]
    }
   ],
   "source": [
    "# create a (3x5) 2-D array filled with zeros\n",
    "zeros_array = np.zeros((3,5))\n",
    "\n",
    "# print zeros_array\n",
    "print(zeros_array)"
   ]
  },
  {
   "cell_type": "markdown",
   "id": "c9fc5e7a-f8fb-4343-aab0-4a1078cc3ff1",
   "metadata": {},
   "source": [
    "### Ones Array"
   ]
  },
  {
   "cell_type": "code",
   "execution_count": 14,
   "id": "52856382-5e2e-4afc-8870-fe87d1b1dffe",
   "metadata": {},
   "outputs": [
    {
     "name": "stdout",
     "output_type": "stream",
     "text": [
      "[1. 1. 1. 1. 1.]\n"
     ]
    }
   ],
   "source": [
    "# create a (5x1) 1-D array filled with ones\n",
    "ones_array = np.ones((5))\n",
    "\n",
    "# print ones_array\n",
    "print(ones_array)"
   ]
  },
  {
   "cell_type": "markdown",
   "id": "01dea031-3c02-4f55-a701-b49c7e6961ca",
   "metadata": {},
   "source": [
    "<hr>"
   ]
  },
  {
   "cell_type": "markdown",
   "id": "9d9a791b-8120-4f30-a4b7-9fa63656a1c1",
   "metadata": {},
   "source": [
    "## Combining Arrays"
   ]
  },
  {
   "cell_type": "markdown",
   "id": "1ef75100-703d-4fec-bd2b-4f15110571be",
   "metadata": {},
   "source": [
    "### Vertical Stack"
   ]
  },
  {
   "cell_type": "code",
   "execution_count": 16,
   "id": "4fb37915-5f7d-43fc-b391-c02bceaf2f1c",
   "metadata": {},
   "outputs": [
    {
     "name": "stdout",
     "output_type": "stream",
     "text": [
      "[1 2 3]\n",
      "[4 5 6]\n",
      "[[1 2 3]\n",
      " [4 5 6]]\n",
      "(2, 3)\n"
     ]
    }
   ],
   "source": [
    "# create first array\n",
    "array_1 = np.array([1,2,3])\n",
    "print(array_1)\n",
    "\n",
    "# create second array\n",
    "array_2 = np.array([4,5,6])\n",
    "print(array_2)\n",
    "\n",
    "# vertical stack both arrays\n",
    "vertical_array = np.vstack((array_1, array_2))\n",
    "print(vertical_array)\n",
    "print(vertical_array.shape)"
   ]
  },
  {
   "cell_type": "markdown",
   "id": "1bf6e8d0-8cbb-44b2-9e42-7ced79c90d4d",
   "metadata": {},
   "source": [
    "### Horizontal Stack"
   ]
  },
  {
   "cell_type": "code",
   "execution_count": null,
   "id": "2200d83a-cb07-42e1-b5ce-9b262380a874",
   "metadata": {},
   "outputs": [
    {
     "name": "stdout",
     "output_type": "stream",
     "text": [
      "[1 2 3]\n",
      "[4 5 6]\n",
      "[1 2 3 4 5 6]\n",
      "(6,)\n"
     ]
    }
   ],
   "source": [
    "# create first array\n",
    "array_1 = np.array([1,2,3])\n",
    "print(array_1)\n",
    "\n",
    "# create second array\n",
    "array_2 = np.array([4,5,6])\n",
    "print(array_2)\n",
    "\n",
    "# horizontal stack both arrays\n",
    "horizontal_array = np.hstack((array_1, array_2))\n",
    "print(horizontal_array)\n",
    "print(horizontal_array.shape)"
   ]
  },
  {
   "cell_type": "markdown",
   "id": "c9866978-95eb-4655-8546-63caa251906e",
   "metadata": {},
   "source": [
    "<hr>"
   ]
  },
  {
   "cell_type": "markdown",
   "id": "4ec3847c-6984-4a45-8749-d1b65f82fe3c",
   "metadata": {},
   "source": [
    "# Index, Slice, and Reshape Arrays"
   ]
  },
  {
   "cell_type": "markdown",
   "id": "a225211e-8959-4418-b9c5-0ef4906cb668",
   "metadata": {},
   "source": [
    "## Python Lists to Arrays"
   ]
  },
  {
   "cell_type": "code",
   "execution_count": 39,
   "id": "b8baff3e-b2ce-4dbf-b130-5bdb79647059",
   "metadata": {},
   "outputs": [
    {
     "name": "stdout",
     "output_type": "stream",
     "text": [
      "[6, 11, 52, 13, 48]\n",
      "[34, 98, 34, 4, 68]\n",
      "\n",
      "\n",
      "method 1\n",
      "[ 6 11 52 13 48]\n",
      "int64\n",
      "[34 98 34  4 68]\n",
      "<class 'numpy.ndarray'>\n",
      "[[ 6 11 52 13 48]\n",
      " [34 98 34  4 68]]\n",
      "int64\n",
      "(2, 5)\n",
      "\n",
      "\n",
      "method 2\n",
      "[[6, 11, 52, 13, 48], [34, 98, 34, 4, 68]]\n",
      "[[ 6 11 52 13 48]\n",
      " [34 98 34  4 68]]\n",
      "int64\n",
      "(2, 5)\n"
     ]
    }
   ],
   "source": [
    "# combining two lists together into a 2-D array\n",
    "# generate two random lists of five numbers\n",
    "import random\n",
    "random.seed(123)\n",
    "\n",
    "list_1 = list()\n",
    "list_2 = list()\n",
    "\n",
    "\n",
    "for num in range(5):\n",
    "    list_1.append(random.randint(0,100))\n",
    "    list_2.append(random.randint(0,100))\n",
    "\n",
    "print(list_1)\n",
    "print(list_2)\n",
    "print('\\n')\n",
    "\n",
    "############################\n",
    "\n",
    "# method 1\n",
    "print('method 1')\n",
    "\n",
    "# transform lists to nd_array\n",
    "list_1_array = np.array(list_1)\n",
    "print(list_1_array)\n",
    "print(list_1_array.dtype)\n",
    "\n",
    "list_2_array = np.array(list_2)\n",
    "print(list_2_array)\n",
    "print(type(list_2_array))\n",
    "\n",
    "# vertical stack arrays to form 2-D array\n",
    "vstack_array = np.vstack((list_1_array, list_2_array))\n",
    "print(vstack_array)\n",
    "print(vstack_array.dtype)\n",
    "print(vstack_array.shape)\n",
    "print('\\n')\n",
    "\n",
    "############################\n",
    "\n",
    "# method 2\n",
    "print('method 2')\n",
    "new_list = list()\n",
    "new_list.append(list_1)\n",
    "new_list.append(list_2)\n",
    "print(new_list)\n",
    "new_array = np.array(new_list)\n",
    "print(new_array)\n",
    "print(new_array.dtype)\n",
    "print(new_array.shape)"
   ]
  },
  {
   "cell_type": "markdown",
   "id": "fbdd2eac-01c1-496b-b006-6925b594014e",
   "metadata": {},
   "source": [
    "<hr>"
   ]
  },
  {
   "cell_type": "markdown",
   "id": "6b2bf5f2-e891-4c63-b426-696e14b10631",
   "metadata": {},
   "source": [
    "## Array Indexing"
   ]
  },
  {
   "cell_type": "code",
   "execution_count": null,
   "id": "67f39bbd-003f-4b1c-9e0e-cfd3054577f0",
   "metadata": {},
   "outputs": [],
   "source": []
  }
 ],
 "metadata": {
  "kernelspec": {
   "display_name": "Python 3 (ipykernel)",
   "language": "python",
   "name": "python3"
  },
  "language_info": {
   "codemirror_mode": {
    "name": "ipython",
    "version": 3
   },
   "file_extension": ".py",
   "mimetype": "text/x-python",
   "name": "python",
   "nbconvert_exporter": "python",
   "pygments_lexer": "ipython3",
   "version": "3.8.5"
  }
 },
 "nbformat": 4,
 "nbformat_minor": 5
}
